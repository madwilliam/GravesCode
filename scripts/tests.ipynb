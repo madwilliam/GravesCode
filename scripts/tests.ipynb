{
 "cells": [
  {
   "cell_type": "code",
   "execution_count": 4,
   "metadata": {},
   "outputs": [],
   "source": [
    "from dimension_magic import get_emg_ica,get_glove_data\n",
    "from PlotUtility import plot_multi_channel\n",
    "from MyKinFitter import MyoKinFitter\n",
    "import matplotlib.pyplot as plt\n",
    "from group_stats import find_correlation\n",
    "import numpy as np\n",
    "from scipy.optimize import curve_fit\n",
    "from signal_utilities import custume_moving_average,find_moving_average,plot_spectrum,find_baselines,subtract_baseline_from_signals,calculate_power_of_signal,gaussian_filter_signal,custom_norm,lowpass_fiter_signals,find_baseline_peakutil"
   ]
  },
  {
   "cell_type": "code",
   "execution_count": 2,
   "metadata": {},
   "outputs": [],
   "source": [
    "glove = get_glove_data()\n",
    "fingers = glove[:,[4,7,11,15]]"
   ]
  },
  {
   "cell_type": "code",
   "execution_count": 5,
   "metadata": {},
   "outputs": [],
   "source": [
    "for i in range(4):\n",
    "    fingeri = fingers[:,i]\n",
    "    baseline = custume_moving_average(fingers,N = 500)\n",
    "    plt.figure()\n",
    "    plt.plot(fingeri - baseline)"
   ]
  }
 ],
 "metadata": {
  "interpreter": {
   "hash": "021d8622ca1b69ea9ec1ef73ef63659e2980fd4bbaa1990693d939477dd1b6fc"
  },
  "kernelspec": {
   "display_name": "Python 3.9.4 ('dklab')",
   "language": "python",
   "name": "python3"
  },
  "language_info": {
   "codemirror_mode": {
    "name": "ipython",
    "version": 3
   },
   "file_extension": ".py",
   "mimetype": "text/x-python",
   "name": "python",
   "nbconvert_exporter": "python",
   "pygments_lexer": "ipython3",
   "version": "3.9.4"
  },
  "orig_nbformat": 4
 },
 "nbformat": 4,
 "nbformat_minor": 2
}
