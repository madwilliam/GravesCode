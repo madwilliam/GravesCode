{
 "cells": [
  {
   "cell_type": "code",
   "execution_count": 1,
   "metadata": {},
   "outputs": [],
   "source": [
    "import scipy.io\n",
    "import os\n",
    "import re\n",
    "import pickle\n",
    "from sklearn.decomposition import PCA\n",
    "from FileIO import FileIO\n",
    "import matplotlib.pyplot as plt\n",
    "import numpy as np\n",
    "import plotly\n",
    "import plotly.express as px\n",
    "import plotly.graph_objects as go\n",
    "from scipy import signal\n",
    "from sklearn.decomposition import FastICA\n",
    "from PlotUtility import plot_multi_channel\n",
    "from scipy.stats import entropy"
   ]
  },
  {
   "cell_type": "code",
   "execution_count": 2,
   "metadata": {},
   "outputs": [],
   "source": [
    "io = FileIO()\n",
    "exps = io.load_experiment('s1')\n",
    "emg = exps['S1_E1_A1']['emg'].astype(int)\n",
    "glove = exps['S1_E1_A1']['glove']\n",
    "myo1 = emg[:,:8]\n",
    "myo2 = emg[:,8:]\n",
    "all_emg = np.concatenate(emg)"
   ]
  },
  {
   "cell_type": "code",
   "execution_count": 3,
   "metadata": {},
   "outputs": [
    {
     "ename": "NameError",
     "evalue": "name 'sampling_rate' is not defined",
     "output_type": "error",
     "traceback": [
      "\u001b[1;31m---------------------------------------------------------------------------\u001b[0m",
      "\u001b[1;31mNameError\u001b[0m                                 Traceback (most recent call last)",
      "\u001b[1;32m<ipython-input-3-096c9588b6c1>\u001b[0m in \u001b[0;36m<module>\u001b[1;34m\u001b[0m\n\u001b[0;32m      3\u001b[0m     \u001b[0msignali\u001b[0m \u001b[1;33m=\u001b[0m \u001b[0memg\u001b[0m\u001b[1;33m[\u001b[0m\u001b[1;33m:\u001b[0m\u001b[1;33m,\u001b[0m\u001b[0mi\u001b[0m\u001b[1;33m]\u001b[0m\u001b[1;33m\u001b[0m\u001b[1;33m\u001b[0m\u001b[0m\n\u001b[0;32m      4\u001b[0m     \u001b[1;31m# fourier_transform = np.fft.rfft(signal)\u001b[0m\u001b[1;33m\u001b[0m\u001b[1;33m\u001b[0m\u001b[1;33m\u001b[0m\u001b[0m\n\u001b[1;32m----> 5\u001b[1;33m     \u001b[0m_\u001b[0m\u001b[1;33m,\u001b[0m \u001b[0mfourier_transform\u001b[0m \u001b[1;33m=\u001b[0m \u001b[0msignal\u001b[0m\u001b[1;33m.\u001b[0m\u001b[0mwelch\u001b[0m\u001b[1;33m(\u001b[0m\u001b[0msignali\u001b[0m\u001b[1;33m,\u001b[0m \u001b[0msampling_rate\u001b[0m\u001b[1;33m,\u001b[0m \u001b[0mnperseg\u001b[0m\u001b[1;33m=\u001b[0m\u001b[1;36m2048\u001b[0m\u001b[1;33m)\u001b[0m\u001b[1;33m\u001b[0m\u001b[1;33m\u001b[0m\u001b[0m\n\u001b[0m\u001b[0;32m      6\u001b[0m     \u001b[0mabs_fourier_transform\u001b[0m \u001b[1;33m=\u001b[0m \u001b[0mnp\u001b[0m\u001b[1;33m.\u001b[0m\u001b[0mabs\u001b[0m\u001b[1;33m(\u001b[0m\u001b[0mfourier_transform\u001b[0m\u001b[1;33m)\u001b[0m\u001b[1;33m\u001b[0m\u001b[1;33m\u001b[0m\u001b[0m\n\u001b[0;32m      7\u001b[0m     \u001b[0mpower_spectrum\u001b[0m \u001b[1;33m=\u001b[0m \u001b[0mnp\u001b[0m\u001b[1;33m.\u001b[0m\u001b[0msquare\u001b[0m\u001b[1;33m(\u001b[0m\u001b[0mabs_fourier_transform\u001b[0m\u001b[1;33m)\u001b[0m\u001b[1;33m\u001b[0m\u001b[1;33m\u001b[0m\u001b[0m\n",
      "\u001b[1;31mNameError\u001b[0m: name 'sampling_rate' is not defined"
     ]
    }
   ],
   "source": [
    "spectrums = []\n",
    "for i in range(16):\n",
    "    signali = emg[:,i]\n",
    "    # fourier_transform = np.fft.rfft(signal)\n",
    "    _, fourier_transform = signal.welch(signali, sampling_rate, nperseg=2048)\n",
    "    abs_fourier_transform = np.abs(fourier_transform)\n",
    "    power_spectrum = np.square(abs_fourier_transform)\n",
    "    spectrums.append(power_spectrum)\n",
    "spectrums = np.array(spectrums)"
   ]
  },
  {
   "cell_type": "code",
   "execution_count": null,
   "metadata": {},
   "outputs": [],
   "source": [
    "sampling_rate = 200\n",
    "fourier_transform = np.fft.rfft(emg[:,0])\n",
    "abs_fourier_transform = np.abs(fourier_transform)\n",
    "power_spectrum = np.square(abs_fourier_transform)\n",
    "frequency = np.linspace(0, sampling_rate/2, len(power_spectrum))"
   ]
  },
  {
   "cell_type": "code",
   "execution_count": null,
   "metadata": {},
   "outputs": [],
   "source": [
    "def plot_multi_channel(data,x = None):\n",
    "    if data.shape[0] < data.shape[1]:\n",
    "        data = data.T\n",
    "    nplot = data.shape[1]\n",
    "    plt.figure(figsize = [10,5*nplot])\n",
    "    for i in range(nplot):\n",
    "        plt.subplot(nplot,1,i+1)\n",
    "        if len(x)>0:\n",
    "            plt.plot(x,data[:,i])\n",
    "        else:\n",
    "            plt.plot(data[:,i])\n",
    "        plt.ylim(0,np.max(data[int(0.3*len(data[:,i])):,i]))"
   ]
  },
  {
   "cell_type": "code",
   "execution_count": null,
   "metadata": {},
   "outputs": [],
   "source": [
    "plot_multi_channel(spectrums,x=frequency)"
   ]
  },
  {
   "cell_type": "code",
   "execution_count": null,
   "metadata": {},
   "outputs": [],
   "source": []
  }
 ],
 "metadata": {
  "interpreter": {
   "hash": "021d8622ca1b69ea9ec1ef73ef63659e2980fd4bbaa1990693d939477dd1b6fc"
  },
  "kernelspec": {
   "display_name": "Python 3.9.4 ('dklab')",
   "language": "python",
   "name": "python3"
  },
  "language_info": {
   "codemirror_mode": {
    "name": "ipython",
    "version": 3
   },
   "file_extension": ".py",
   "mimetype": "text/x-python",
   "name": "python",
   "nbconvert_exporter": "python",
   "pygments_lexer": "ipython3",
   "version": "3.9.4"
  },
  "orig_nbformat": 4
 },
 "nbformat": 4,
 "nbformat_minor": 2
}
